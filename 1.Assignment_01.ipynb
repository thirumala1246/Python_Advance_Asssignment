{
 "cells": [
  {
   "attachments": {},
   "cell_type": "markdown",
   "metadata": {},
   "source": [
    "**1. What is the purpose of Python's OOP?**"
   ]
  },
  {
   "attachments": {},
   "cell_type": "markdown",
   "metadata": {},
   "source": [
    "**Ans:** OOP is an object-oriented programming technique that combines data and instructions for processing that data into an object that can be used within the program. <br>\n",
    "<ul>\n",
    "<li>object-oriented Programming (OOPs) uses the objects and classes in python programming. </li> \n",
    "<li>It aims to implement real-world entities in the programming like inheritance, polymorphisms, encapsulation, etc. </li> \n",
    "<li>The concept of OOPs is to bind the data and the functions that work on that together as a single unit so that no other part of the code can access this data. </li> \n",
    "<li> advantages of OOPS: </li> \n",
    "<li>Multiple instances of an object can be made. </li>\n",
    "<li>Helps in maintenance and modification in the program </li>\n",
    "<li>It helps to divide all program into different small portion and thus making it solving easy with the use of objects </li> \n",
    "\n",
    "</ul>"
   ]
  },
  {
   "attachments": {},
   "cell_type": "markdown",
   "metadata": {},
   "source": [
    "**2. Where does an inheritance search look for an attribute?**"
   ]
  },
  {
   "attachments": {},
   "cell_type": "markdown",
   "metadata": {},
   "source": [
    "**Ans:**  it first searches for the attribute in objects and then looks in the class , to all super classes listed in its class header."
   ]
  },
  {
   "attachments": {},
   "cell_type": "markdown",
   "metadata": {},
   "source": [
    "**3. How do you distinguish between a class object and an instance object?**"
   ]
  },
  {
   "attachments": {},
   "cell_type": "markdown",
   "metadata": {},
   "source": [
    "**Ans:** The differences between a class object and an instance object are: <br>\n",
    "<ol>\n",
    "<li>Class for creating objects whereas object is an instance of class</li>\n",
    "<li>Seperate memory is allocated for each object whenever an object is created. but for a class doesnot occurs.</li>\n",
    "<li>A Class is created first. Many objects are created using a class.</li>\n",
    "<li>Classes have no allocated memory. classes can't be manipulated. but objects can be manipulated.</li>\n",
    "</ol>"
   ]
  },
  {
   "attachments": {},
   "cell_type": "markdown",
   "metadata": {},
   "source": [
    "**4. What makes the first argument in a class’s method function special?**"
   ]
  },
  {
   "attachments": {},
   "cell_type": "markdown",
   "metadata": {},
   "source": [
    "**Ans:** Python Classes usually have three types of methods which are: <br>\n",
    "<ul>\n",
    "<li> Instance Methods (object level methods) </li>\n",
    "<li> Class Methods (class level methods) </li>\n",
    "<li> Static Methods (general utility methods) </li>\n",
    "<li> 'self' is the first argument for instance methods. which refers to the object itself </li>\n",
    "<li> 'cls' is the first argument for class methods which refers to the class itself </li>\n",
    "</ul>"
   ]
  },
  {
   "attachments": {},
   "cell_type": "markdown",
   "metadata": {},
   "source": [
    "**5. What is the purpose of the init method?**"
   ]
  },
  {
   "attachments": {},
   "cell_type": "markdown",
   "metadata": {},
   "source": [
    "**Ans:** `__init__` is a method in python classes. It is constructor in object oriented terminology. This method is called when an object is created from a class and it allows the class to initialize the object of the class."
   ]
  },
  {
   "attachments": {},
   "cell_type": "markdown",
   "metadata": {},
   "source": [
    "**6. What is the process for creating a class instance?**"
   ]
  },
  {
   "attachments": {},
   "cell_type": "markdown",
   "metadata": {},
   "source": [
    "**Ans:** we need to call the class by its name and pass the arguments to create a class instance, which its `init` method accepts."
   ]
  },
  {
   "attachments": {},
   "cell_type": "markdown",
   "metadata": {},
   "source": [
    "**7. What is the process for creating a class?**"
   ]
  },
  {
   "attachments": {},
   "cell_type": "markdown",
   "metadata": {},
   "source": [
    "**Ans:** class keyword is used to created a class in python. The syntax to create a class in python\n",
    "`class <classname>:`\n",
    "\n",
    "**Example:** class Car: ➞ created class is known as Car"
   ]
  },
  {
   "attachments": {},
   "cell_type": "markdown",
   "metadata": {},
   "source": [
    "**8. How would you define the superclasses of a class?**"
   ]
  },
  {
   "attachments": {},
   "cell_type": "markdown",
   "metadata": {},
   "source": [
    "**Ans:** Superclass or Parent class is given as a arugment to the child class\n",
    "\n",
    "**Example:** `class Employee(Person):` Here child class Employee inherits class attribute and methods from Superclass or Parent Person."
   ]
  }
 ],
 "metadata": {
  "kernelspec": {
   "display_name": "Python 3",
   "language": "python",
   "name": "python3"
  },
  "language_info": {
   "name": "python",
   "version": "3.10.11"
  },
  "orig_nbformat": 4
 },
 "nbformat": 4,
 "nbformat_minor": 2
}
