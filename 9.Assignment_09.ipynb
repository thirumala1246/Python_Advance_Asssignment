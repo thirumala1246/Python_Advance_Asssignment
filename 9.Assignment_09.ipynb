{
 "cells": [
  {
   "cell_type": "markdown",
   "metadata": {},
   "source": [
    "**Q1. In Python 3.X, what are the names and functions of string object types?**"
   ]
  },
  {
   "cell_type": "markdown",
   "metadata": {},
   "source": [
    "Ans: The following are the names and functions of string object types in Python 3.X <br>\n",
    "\n",
    "`<stirng>.isdecimal() ->` Returns True if all characters in a string are decimal.  <br>\n",
    "`<string>.isalnum() ->` Returns True if all characters in the string are AlphaNumeric.  <br>\n",
    "`<string>.istitle() -> `Returns True if first character in a string is in Uppercase.  <br>\n",
    "`<string>.partition(<sub_string>) ->` Splits string at first occurance of sub string and returns a tuple of 3 elements.  <br>\n",
    "`<string>.rpartition(<sub_string>) ->` Splits string at last occurance of sub string and returns a tuple of 3 elements.  <br>\n",
    "`<string>.isidentifier() ->` Returns True if give string is a valid identifier name.  <br>\n",
    "`len(<string>) ->` Returns the length of the given string.  <br>\n",
    "`<string>.index(<sub_string>) ->` Returns the lowest index of substring if substring is found in the string.  <br>\n",
    "`<string>.rindex(<sub_string>) ->` Returns the highest index of substring if substring is found in the string.  <br>\n",
    "`max(<string>) ->` Returns the highest Alphabetical Character in the string as per ASCII.  <br>\n",
    "`min(<string>) ->` Returns the lowest Alphabetical Character in the string as per ASCII.  <br>\n",
    "`<string>.splitlines() ->` Returns a list of lines in the string.  <br>\n",
    "`<string>.capitalize() ->` Returns the string with first character capitalized.  <br>\n",
    "`<string>.upper() ->` Returns the string with all characters in uppercase.  <br>\n",
    "`<string>.lower() ->` Returns the string with all characters in lowercase  <br>\n",
    "`<string>.casefold() ->` Returns the string in lowercase which can be used for caseless comparisions.  <br>\n",
    "`<string>.expandtabs(no_of_spaces) ->` Replaces tabs in a string with specified no of spaces default is 8  <br>\n",
    "`<string>.find(<sub_string>) ->` Returns lowest index of substring if substring is found in the string else returns -1.  <br>\n",
    "`<string>.rfind(<sub_string>) ->` Returns highest index of substring if substring is found in the string else returns -1 <br>. \n",
    "`<string>.count(<char>) ->` Returns the no of occurances of the char in the given string.  <br>\n",
    "`<string>.split(<sep>) ->` Returns list of words seperated by given sep else seperated by whitespace.  <br>\n",
    "`<string>.rsplit(<sep>) ->` Returns list of words seperated by given sep else seperated by whitespace scanning from end. <br> \n",
    "`<string>.lstrip() ->` Returns a copy of where leading whitespaces are removed.  <br>\n",
    "`<string>.rstrip() ->` Returns a copy of where trailed whitespaces are removed.  <br>\n",
    "`<string>.strip() ->` Returns a copy of where both leading and trailing whitespaces are removed.  <br>\n",
    "`<string>.swapcase() ->` Swaps lowercase characters with uppercase and vice versa.  <br>\n",
    "`<sep>.join(<list>) ->` Concatenates a list or tuple of words with intervening occuernces of sep.  <br>\n",
    "`<string>.translate(<mapping_table>) ->` translates the characters using table.  <br>\n",
    "`<string>.maketrans(<dict>) ->` Creating a mapping translation tbale usable for `<string>.translate(<mapping_table>)` <br>\n",
    "`<string>.replace(<char_1>,<char_2>) ->` Replace all occurances of char_1 with char_2 in string.  <br>\n",
    "`<string>.encode() ->` Encodes string into any encoding supported by python. Default encoding is UTF-8.  <br>\n",
    "`<string>.ljust(<no_of_spaces>) ->` Left-justify in a field of given width.  <br>\n",
    "`<string>.rjust(<no_of_spaces>) ->` Right-justify in a field of given width.  <br>\n",
    "`<string>.center(<no_of_spaces>) ->` Center-justify in a field of given width.  <br>\n",
    "`<stirng>.zfill(<length>) ->` Zfill adds zeros to the begining of string until the specified length is reached.  <br>"
   ]
  },
  {
   "cell_type": "markdown",
   "metadata": {},
   "source": [
    "**Q2. How do the string forms in Python 3.X vary in terms of operations?**"
   ]
  },
  {
   "cell_type": "markdown",
   "metadata": {},
   "source": [
    "Ans: In Python3 default format of strings is Unicode Whereas in Pyton2 we need to explicitly mention Unicode value using u."
   ]
  },
  {
   "cell_type": "markdown",
   "metadata": {},
   "source": [
    "**Q3. In Python 3.X, how do you put non-ASCII Unicode characters in a string?**"
   ]
  },
  {
   "cell_type": "markdown",
   "metadata": {},
   "source": [
    "Ans: In Python 3.x unidecode() method from unidecode library can be used to put non-ASCII Unicode Characters in a string."
   ]
  },
  {
   "cell_type": "code",
   "execution_count": 3,
   "metadata": {},
   "outputs": [
    {
     "name": "stdout",
     "output_type": "stream",
     "text": [
      "kozuscek\n"
     ]
    }
   ],
   "source": [
    "from unidecode import unidecode # at first ` pip install unidecode`\n",
    "print(unidecode(u'ko\\u017eu\\u0161\\u010dek'))\n"
   ]
  },
  {
   "cell_type": "markdown",
   "metadata": {},
   "source": [
    "**Q4. In Python 3.X, what are the key differences between text-mode and binary-mode files?**"
   ]
  },
  {
   "cell_type": "markdown",
   "metadata": {},
   "source": [
    "Ans: The major difference between these two is that a text file contains textual information in the form of alphabets, digits and special characters or symbols. On the other hand, a binary file contains bytes or a compiled version of a text file. <br>\n",
    "\n",
    "When a file is opened in text mode, reading its data automatically decodes its content (as per the platform default or as per provided encoding), and returns it as a str; writing operation takes a str, and automatically encodes it before transferring to the file. Text mode files also support universal end-of-line translation, and encoding specification arguments. <br>\n",
    "\n",
    "When a file is opened in binary mode by adding a b to the mode string argument in the open() call, reading its data does not decode it in any way, and simply returns its content raw and unchanged, as a bytes object; writing takes a bytes object and transfers it to the file unchanged. Binary-mode files also accept a bytearray object for the content to be written to the file. <br>"
   ]
  },
  {
   "cell_type": "markdown",
   "metadata": {},
   "source": [
    "**Q5. How can you interpret a Unicode text file containing text encoded in a different encoding than your platform's default?**"
   ]
  },
  {
   "cell_type": "markdown",
   "metadata": {},
   "source": [
    "Ans: Use of `encode()` and `decode()` method can be used to you interpret a Unicode text file containing text encoded in a different encoding than your platform's default, by default encoding parameter is UTF-8"
   ]
  },
  {
   "cell_type": "markdown",
   "metadata": {},
   "source": [
    "**Q6. What is the best way to make a Unicode text file in a particular encoding format?**"
   ]
  },
  {
   "cell_type": "markdown",
   "metadata": {},
   "source": [
    "Ans: Use `str.encode()` and `file.write()` to make a Unicode text file in a particular encoding format, default encoding format is UTF-18."
   ]
  },
  {
   "cell_type": "code",
   "execution_count": null,
   "metadata": {},
   "outputs": [],
   "source": [
    "unicode_text = u\"ko\\u017eu\\u0161\\u010dek\"\n",
    "encoded_unicode_text = unicode_text.encode(\"utf-8\")\n",
    "print(encoded_unicode_text,end=\"\\n\\n\")\n",
    "\n",
    "w_file = open(\"w_file.txt\",\"wb\")\n",
    "w_file.write(encoded_unicode_text)\n",
    "w_file.close()\n",
    "\n",
    "r_file = open(\"w_file.txt\",\"rb\")\n",
    "data = r_file.read()\n",
    "print(data)"
   ]
  },
  {
   "cell_type": "markdown",
   "metadata": {},
   "source": [
    "**Q7. What qualifies ASCII text as a form of Unicode text?**"
   ]
  },
  {
   "cell_type": "markdown",
   "metadata": {},
   "source": [
    "Ans: Unicode represents most written languages in the world. ASCII has its equivalent in Unicode. The difference between ASCII and Unicode is that ASCII represents lowercase letters (a-z), uppercase letters (A-Z), digits (0–9) and symbols such as punctuation marks while Unicode represents letters of English, Arabic, Greek etc. mathematical symbols, historical scripts, emoji covering a wide range of characters than ASCII"
   ]
  },
  {
   "cell_type": "markdown",
   "metadata": {},
   "source": [
    "**Q8. How much of an effect does the change in string types in Python 3.X have on your code?**"
   ]
  },
  {
   "cell_type": "markdown",
   "metadata": {},
   "source": [
    "Ans: Python 3 stores strings as Unicode by default whereas Python 2 requires you to mark a string with a u if you want to store it as Unicode. Unicode strings are more versatile than ASCII strings, which are the Python 3.X default, as they can store letters from foreign languages as well as emoji and the standard Roman letters and numerals."
   ]
  }
 ],
 "metadata": {
  "kernelspec": {
   "display_name": "learningpython",
   "language": "python",
   "name": "python3"
  },
  "language_info": {
   "codemirror_mode": {
    "name": "ipython",
    "version": 3
   },
   "file_extension": ".py",
   "mimetype": "text/x-python",
   "name": "python",
   "nbconvert_exporter": "python",
   "pygments_lexer": "ipython3",
   "version": "3.10.11"
  },
  "orig_nbformat": 4
 },
 "nbformat": 4,
 "nbformat_minor": 2
}
