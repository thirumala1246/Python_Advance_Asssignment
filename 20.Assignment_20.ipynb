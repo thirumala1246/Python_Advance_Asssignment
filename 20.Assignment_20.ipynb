{
 "cells": [
  {
   "cell_type": "markdown",
   "metadata": {},
   "source": [
    "**1. Compare and contrast the float and Decimal classes' benefits and drawbacks ?** <br>\n",
    "Ans: Both the float and decimal types store numerical values in Python. <br>\n",
    " <br>\n",
    "Use floats when convenience and speed matter. A float gives you an approximation of the number you declare. <br>\n",
    " <br>\n",
    "Use decimals when precision matters. Decimals can suffer from their own precision issues, but generally, decimals are more precise than floats. The performance difference between float and decimal, with Python 3, is not outlandish, and in my experience, the precision benefits of a decimal outweigh the performance benefits of a float. <br>\n",
    "\n",
    "**2. Decimal('1.200') and Decimal('1.2') are two objects to consider. In what sense are these the same object? Are these just two ways of representing the exact same value, or do they correspond to different internal states ?** <br>\n",
    "Ans: Both values are same but internal representation at storage Is different. Precsion differs, `Decimal('1.200')` gives internally `1.200` and `Decimal('1.2')` gives `1.2`. <br>\n",
    "\n",
    "**3. What happens if the equality of Decimal('1.200') and Decimal('1.2') is checked ?** <br>\n",
    "Ans: Both values are checked to be equal , they only differ in precision. <br>\n",
    "\n",
    "**4. Why is it preferable to start a Decimal object with a string rather than a floating-point value ?** <br>\n",
    "Ans: Floating-point value is converted to Decimal format. Decimal can store float value with absolute precision. But when float value is given as Decimal object,it first has to be converted from floating point value which might already have rounding error. <br>\n",
    " <br>\n",
    "Hence it is preferable to start a Decimal object with a string. <br>\n",
    "\n",
    "**5. In an arithmetic phrase, how simple is it to combine Decimal objects with integers ?** <br>\n",
    "Ans: We can do it with use of `Decimal()`. <br>\n",
    "\n",
    "**6. Can Decimal objects and floating-point values be combined easily ?** <br>\n",
    "Ans: Arithmetic operfations like Adding,subtracting or multiplying a Decimal object by a floating-point value is generates an error. <br>\n",
    " <br>\n",
    "To do these operations, the floating point has to be converted to a Decimal. <br>\n",
    "\n",
    "**7. Using the Fraction class but not the Decimal class, give an example of a quantity that can be expressed with absolute precision ?** <br>\n",
    "Ans: Value of `0.5` will be represented as `1/2`. <br>\n",
    "\n",
    "**8.Consider the following two fraction objects: Fraction(1, 2) and Fraction(1, 2). (5, 10). Is the internal state of these two objects the same? Why do you think that is ?** <br>\n",
    "Ans: Both will be reduced to `1/2` <br>\n",
    "\n",
    "**9. How do the Fraction class and the integer type (int) relate to each other? Containment or inheritance ?** <br>\n",
    "Ans: Fraction class and integer `type(int)` are related in form of a container.It contains two ints, one the numerator and the other the denominator <br>"
   ]
  }
 ],
 "metadata": {
  "kernelspec": {
   "display_name": "learningpython",
   "language": "python",
   "name": "python3"
  },
  "language_info": {
   "name": "python",
   "version": "3.10.11"
  },
  "orig_nbformat": 4
 },
 "nbformat": 4,
 "nbformat_minor": 2
}
