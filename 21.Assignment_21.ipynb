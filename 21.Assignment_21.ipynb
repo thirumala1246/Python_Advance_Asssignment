{
 "cells": [
  {
   "cell_type": "markdown",
   "metadata": {},
   "source": [
    "**Q1. What is a probability distribution, exactly? If the values are meant to be random, how can you predict them at all ?** <br>\n",
    "Ans: A probability distribution describes how a random variable is distributed. <br>\n",
    "\n",
    "It tells us which values a random variable is most likely to take on and which values are less likely. Based on the previous data and the occurences of the random event, we can predict the outcome in terms of probabilities. <br>\n",
    "\n",
    "**Q2. Is there a distinction between true random numbers and pseudo-random numbers, if there is one? Why are the latter considered “good enough”?** <br>\n",
    "Ans: : True Random Numbers are true physical values while pseudo-random numbers are generated internally by a program . Latter is considered good enough as they have sort of uniform distribution. <br>\n",
    "\n",
    "**Q3. What are the two main factors that influence the behaviour of a \"normal\" probability distribution ?** <br>\n",
    "Ans: Normal Probability Distribution are influenced by two factors mean and the variance. <br>\n",
    "\n",
    "**Q4. Provide a real-life example of a normal distribution ?** <br>\n",
    "Ans: A Real-life example of a normal distribution are heights or blood pressure measurements <br>\n",
    "\n",
    "**Q5. In the short term, how can you expect a probability distribution to behave? What do you think will happen as the number of trials grows ?** <br>\n",
    "Ans: Variance will decrease with number of trials <br>\n",
    "\n",
    "**Q6. What kind of object can be shuffled by using random.shuffle ?** <br>\n",
    "Ans: lists (list), strings (str) and tuples (tuple) objects can be shuffled by using random.shuffle. <br>\n",
    "\n",
    "**Q7. Describe the math package's general categories of functions ?** <br>\n",
    "Ans: The Math package's general categories of functions are: <br>\n",
    "\n",
    "1.Trigonometric functions <br>\n",
    "2.Quadratic functions <br>\n",
    "3.Exponential functions <br>\n",
    "4.Hyperbolic functions <br>\n",
    "5.Periodic functions <br>\n",
    "6.Arithmetic functions <br>\n",
    "7.Logarithimic functions <br>\n",
    "8.Conversions to Integer <br>\n",
    "**Q8. What is the relationship between exponentiation and logarithms ?** <br>\n",
    "Ans: Exponentiation and logarithms are inverse of each other. <br>\n",
    "\n",
    "**Q9. What are the three logarithmic functions that Python supports ?** <br>\n",
    "Ans: The Three Logarithmic Functions that Python supports are: <br>\n",
    "\n",
    "1.`log2(x)` - logarithmic value of x to base 2. <br>\n",
    "2.`log10(x)` - logarithmic value of x to base 10. <br>\n",
    "3.`log1p(a)` - This function is used to compute logarithm(1+a). <br>"
   ]
  }
 ],
 "metadata": {
  "kernelspec": {
   "display_name": "learningpython",
   "language": "python",
   "name": "python3"
  },
  "language_info": {
   "name": "python",
   "version": "3.10.11"
  },
  "orig_nbformat": 4
 },
 "nbformat": 4,
 "nbformat_minor": 2
}
