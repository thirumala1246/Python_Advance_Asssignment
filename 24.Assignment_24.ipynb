{
 "cells": [
  {
   "cell_type": "markdown",
   "metadata": {},
   "source": [
    "**Q1. Is it permissible to use several import statements to import the same module? What would the goal be? Can you think of a situation where it would be beneficial ?** <br>\n",
    "Ans: Yes, it is permissible to use several import statements to import the same module. It is used in case when we have to import multiple functions from same module. <br>\n",
    "\n",
    "**Q2. What are some of a module's characteristics? (Name at least one.)** <br>\n",
    "Ans: The following are some of a module's characteristics: <br>\n",
    "\n",
    "`__name__` : It returns the name of the module <br>\n",
    "`__doc__` : It denotes the documentation string line written in a module code. <br>\n",
    "`__file__` : It holds the name and path of the module file from which it is loaded <br>\n",
    "`__dict__` : It return a dictionary object of module attributes, functions and other definitions and their respective values <br>\n",
    "\n",
    "**Q3. Circular importing, such as when two modules import each other, can lead to dependencies and bugs that aren't visible. How can you go about creating a program that avoids mutual importing?** <br>\n",
    "Ans: Circular importing means importing the two modules in each other. If suppose we are wokring in MOD1.py file and it is importing some function say F2() from some other module say MOD2.PY file or we can do vice-versa. What will happen is: This will give an import error. <br>\n",
    " <br>\n",
    "This is because when we import F2() function from module MOD2.py, then this will execute MOD2.py file. And in MOD2.py file there is an another statement of importing MOD1.py module. <br>\n",
    " <br>\n",
    "This will result in endless loop. To avoid this error just do one thingWe can use if `__name__ == '__main__'` <br>\n",
    " <br>\n",
    "In the function, you can't directly refer to the function in the program. The addition of this sentence avoids the endless loop of the program . <br>\n",
    "\n",
    "**Q4. Why is `__all__` in Python ?** <br>\n",
    "Ans: It provides list of all modules present in a library. <br>\n",
    "\n",
    "**Q5. In what situation is it useful to refer to the `__name__` attribute or the string `__main__` ?** <br>\n",
    "Ans: During the time of execution of the code if we want to refer the module in which we are working on then we uses name attribute. In that case it will return the module in which we are working on. Suppose if that moudle is being imported from some other module then name will have the name of that moudle from where the current module has been imported. The current module in which we are working is refer to the string `__main __`. <br>"
   ]
  }
 ],
 "metadata": {
  "kernelspec": {
   "display_name": "learningpython",
   "language": "python",
   "name": "python3"
  },
  "language_info": {
   "name": "python",
   "version": "3.10.11"
  },
  "orig_nbformat": 4
 },
 "nbformat": 4,
 "nbformat_minor": 2
}
