{
 "cells": [
  {
   "cell_type": "markdown",
   "metadata": {},
   "source": [
    "**Q1. What is the distinction between a numpy array and a pandas data frame? Is there a way to convert between the two if there is ?** <br>\n",
    "Ans: Numpy Ndarray provides a lot of convenient and optimized methods for performing several mathematical operations on vectors. <br>\n",
    "\n",
    "Pandas Dataframe is an in-memory 2-dimensional tabular representation of data. In simpler words, it can be seen as a spreadsheet having rows and columns. <br>\n",
    "\n",
    "Conversion : `Dataframe=pandas.DataFrame(array)` <br>\n",
    "\n",
    "**Q2. Identify some of the plotting techniques that are used to produce a stock-market chart ?** <br>\n",
    "Ans: Bar chart, Line Chart are used for plotting. <br>\n",
    "\n",
    "**Q3. Why is it essential to print a legend on a stock market chart ?** <br>\n",
    "Ans: Legend will help comparison between different stocks, so will be essential on a stock market chart <br>\n",
    "\n",
    "**Q4. What is the best way to limit the length of a pandas data frame to less than a year ?** <br>\n",
    "Ans: : We can use start and end parameters for that. In start we write the date from where we are starting and at the end we write the end date. SO within this span we can restric the duration.Also we can use the parameters like periods for how much times we need the duration and we can also use the frequency parameter. <br>\n",
    "\n",
    "**Q5. What is the definition of a 180-day moving average ?** <br>\n",
    "Ans: : The 180-day moving average is represented as a line on charts and represents the average price over the past 180 days. The moving average can give traders a sense regarding whether the trend is up or down, while also identifying potential support or resistance areas. <br>"
   ]
  }
 ],
 "metadata": {
  "kernelspec": {
   "display_name": "learningpython",
   "language": "python",
   "name": "python3"
  },
  "language_info": {
   "name": "python",
   "version": "3.10.11"
  },
  "orig_nbformat": 4
 },
 "nbformat": 4,
 "nbformat_minor": 2
}
